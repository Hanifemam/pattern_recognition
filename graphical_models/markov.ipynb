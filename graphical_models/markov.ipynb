{
 "cells": [
  {
   "cell_type": "code",
   "execution_count": 275,
   "id": "7a22c92d",
   "metadata": {},
   "outputs": [],
   "source": [
    "from pgmpy.models import FactorGraph\n",
    "from pgmpy.factors.discrete import DiscreteFactor\n",
    "from pgmpy.inference import BeliefPropagation\n",
    "import numpy as np"
   ]
  },
  {
   "cell_type": "code",
   "execution_count": 276,
   "id": "4f58af6c",
   "metadata": {},
   "outputs": [],
   "source": [
    "T, K = 4, 2  # 4 variables in a chain, 2 states {0,1}\n",
    "Xs = [f\"X{t}\" for t in range(1, T + 1)]  # [\"X1\",\"X2\",\"X3\",\"X4\"]"
   ]
  },
  {
   "cell_type": "code",
   "execution_count": 277,
   "id": "b93e0f32",
   "metadata": {},
   "outputs": [],
   "source": [
    "\n",
    "phi = [\n",
    "    np.array([1.0, 1.0]),  # φ_1\n",
    "    np.array([1.0, 1.0]),  # φ_2\n",
    "    np.array([0.3, 3.0]),  # φ_3 (evidence-like bump for state 1)\n",
    "    np.array([1.0, 1.0]),  # φ_4\n",
    "]\n",
    "\n",
    "psi = [\n",
    "    np.array([[3.0, 0.5], [0.5, 3.0]]),  # ψ_1 between (X1, X2)\n",
    "    np.array([[1.0, 1.0], [1.0, 1.0]]),  # ψ_2 between (X2, X3)\n",
    "    np.array([[0.25, 2.0], [2.0, 0.25]]),  # ψ_3 between (X3, X4)\n",
    "]"
   ]
  },
  {
   "cell_type": "code",
   "execution_count": 278,
   "id": "f5546d9a",
   "metadata": {},
   "outputs": [],
   "source": [
    "G = FactorGraph()\n",
    "G.add_nodes_from(Xs)  # variable nodes\n",
    "\n",
    "# Add unary factors and connect them\n",
    "unary_factors = []\n",
    "for t in range(T):\n",
    "    f = DiscreteFactor([Xs[t]], [K], phi[t])\n",
    "    G.add_factors(f)\n",
    "    G.add_edge(Xs[t], f)  # connect variable to its unary factor\n",
    "    unary_factors.append(f)"
   ]
  },
  {
   "cell_type": "code",
   "execution_count": 279,
   "id": "720bdc48",
   "metadata": {},
   "outputs": [],
   "source": [
    "pair_factors = []\n",
    "for t in range(T - 1):\n",
    "    g = DiscreteFactor([Xs[t], Xs[t + 1]], [K, K], psi[t].ravel(order=\"C\"))\n",
    "    G.add_factors(g)\n",
    "    G.add_edge(Xs[t], g)\n",
    "    G.add_edge(Xs[t + 1], g)\n",
    "    pair_factors.append(g)"
   ]
  },
  {
   "cell_type": "code",
   "execution_count": 280,
   "id": "16692164",
   "metadata": {},
   "outputs": [],
   "source": [
    "def get_first_last_node(G:FactorGraph):\n",
    "    var_nodes = [n for n in G.nodes() if not isinstance(n, DiscreteFactor)]\n",
    "    endpoints = [v for v in var_nodes if G.degree(v) == 2]\n",
    "\n",
    "    return sorted(endpoints, key=lambda x: int(x[1:]))\n",
    "first, last = get_first_last_node(G)"
   ]
  },
  {
   "cell_type": "code",
   "execution_count": 281,
   "id": "073fb0e8",
   "metadata": {},
   "outputs": [],
   "source": [
    "def is_pairwise_factor(f):\n",
    "    return isinstance(f, DiscreteFactor) and len(f.scope()) == 2"
   ]
  },
  {
   "cell_type": "code",
   "execution_count": null,
   "id": "c8da7960",
   "metadata": {},
   "outputs": [
    {
     "name": "stdout",
     "output_type": "stream",
     "text": [
      "[[0.01010101 0.08080808]\n",
      " [0.80808081 0.1010101 ]]\n",
      "[0.81818182 0.18181818]\n"
     ]
    }
   ],
   "source": [
    "def marginal (G, node1, node2):\n",
    "    bp = BeliefPropagation(G)\n",
    "    q = bp.query(variables=[node1, node2])\n",
    "    table = q.values.reshape(q.cardinality)\n",
    "    print(table)\n",
    "    return table.sum(axis=0)\n",
    "print(marginal(G, \"X3\", \"X4\"))"
   ]
  },
  {
   "cell_type": "code",
   "execution_count": 283,
   "id": "bbf303cf",
   "metadata": {},
   "outputs": [
    {
     "name": "stdout",
     "output_type": "stream",
     "text": [
      "X2\n",
      "X3\n",
      "X4\n"
     ]
    },
    {
     "data": {
      "text/plain": [
       "{('X1', 'X2'): array([0.5, 0.5]),\n",
       " ('X2', 'X3'): array([0.5, 0.5]),\n",
       " ('X3', 'X4'): array([0.09090909, 0.90909091])}"
      ]
     },
     "execution_count": 283,
     "metadata": {},
     "output_type": "execute_result"
    }
   ],
   "source": [
    "def forward_masseage(G:FactorGraph, start, last):\n",
    "    forward_dict = dict()\n",
    "    curr_node = start\n",
    "    next_node = None\n",
    "    prev_node = None\n",
    "    while curr_node != last:\n",
    "        for f in G.neighbors(curr_node):\n",
    "            if not (isinstance(f, DiscreteFactor) and len(f.scope()) == 2):\n",
    "                continue\n",
    "            other_vars = [\n",
    "                v for v in G.neighbors(f) if not isinstance(v, DiscreteFactor)\n",
    "            ]\n",
    "            candidate = other_vars[0] if other_vars[1] == curr_node else other_vars[1]\n",
    "            if candidate == prev_node:\n",
    "                continue\n",
    "            next_node = candidate\n",
    "            break\n",
    "        forward_dict[(curr_node, next_node)] = marginal(G, curr_node, next_node)\n",
    "        if next_node is None:\n",
    "            break\n",
    "        prev_node, curr_node = curr_node, next_node\n",
    "        print(curr_node)\n",
    "    return forward_dict\n",
    "\n",
    "\n",
    "forward_masseage(G, first, last)"
   ]
  },
  {
   "cell_type": "code",
   "execution_count": 284,
   "id": "7c591a00",
   "metadata": {},
   "outputs": [
    {
     "name": "stdout",
     "output_type": "stream",
     "text": [
      "X3\n",
      "X2\n",
      "X1\n"
     ]
    },
    {
     "data": {
      "text/plain": [
       "{('X3', 'X4'): array([0.09090909, 0.90909091]),\n",
       " ('X2', 'X3'): array([0.5, 0.5]),\n",
       " ('X1', 'X2'): array([0.5, 0.5])}"
      ]
     },
     "execution_count": 284,
     "metadata": {},
     "output_type": "execute_result"
    }
   ],
   "source": [
    "def backward_masseage(G: FactorGraph, start, last):\n",
    "    backward_dict = dict()\n",
    "    curr_node = last\n",
    "    next_node = None\n",
    "    prev_node = None\n",
    "    while curr_node != start:\n",
    "        for f in G.neighbors(curr_node):\n",
    "            if not (isinstance(f, DiscreteFactor) and len(f.scope()) == 2):\n",
    "                continue\n",
    "            other_vars = [\n",
    "                v for v in G.neighbors(f) if not isinstance(v, DiscreteFactor)\n",
    "            ]\n",
    "            candidate = other_vars[0] if other_vars[1] == curr_node else other_vars[1]\n",
    "            if candidate == prev_node:\n",
    "                continue\n",
    "            next_node = candidate\n",
    "            break\n",
    "        backward_dict[(next_node, curr_node)] = marginal(G, next_node, curr_node)\n",
    "        if next_node is None:\n",
    "            break\n",
    "        prev_node, curr_node = curr_node, next_node\n",
    "        print(curr_node)\n",
    "    return backward_dict\n",
    "\n",
    "backward_masseage(G, first, last)"
   ]
  },
  {
   "cell_type": "code",
   "execution_count": 285,
   "id": "454d8fa2",
   "metadata": {},
   "outputs": [
    {
     "name": "stdout",
     "output_type": "stream",
     "text": [
      "X2\n",
      "X3\n",
      "X4\n",
      "X3\n",
      "X2\n",
      "X1\n"
     ]
    },
    {
     "data": {
      "text/plain": [
       "array([0.00025826, 0.02582645])"
      ]
     },
     "execution_count": 285,
     "metadata": {},
     "output_type": "execute_result"
    }
   ],
   "source": [
    "def inference(G, node1, node2=None):\n",
    "    first, last = get_first_last_node(G)\n",
    "    forward_massages = forward_masseage(G, first, last)\n",
    "    backward_massages = backward_masseage(G, first, last)\n",
    "    forward_value = np.ones_like(forward_massages[next(iter(forward_massages))])\n",
    "    backward_value = np.ones_like(backward_massages[next(iter(backward_massages))])\n",
    "    if node2 is None:\n",
    "        for key, values in forward_massages.items():\n",
    "            if key[0] == node1:\n",
    "                break\n",
    "            else:\n",
    "                forward_value = values * forward_value\n",
    "        for key, values in backward_massages.items():\n",
    "            if key[0] == node1:\n",
    "                break\n",
    "            else:\n",
    "                backward_value = values * forward_value\n",
    "        return forward_value * backward_value\n",
    "    else:\n",
    "        for key, values in forward_massages.items():\n",
    "            if key[0] == node1 or key[1] == node1:\n",
    "                break\n",
    "            else:\n",
    "                backward_value = values * forward_value\n",
    "        for key, values in backward_massages.items():\n",
    "            if key[0] == node1:\n",
    "                break\n",
    "            else:\n",
    "                backward_value = values * forward_value\n",
    "        return forward_value * backward_value\n",
    "    \n",
    "inference(G, \"X4\")"
   ]
  },
  {
   "cell_type": "code",
   "execution_count": null,
   "id": "286fbed2",
   "metadata": {},
   "outputs": [],
   "source": []
  }
 ],
 "metadata": {
  "kernelspec": {
   "display_name": "env",
   "language": "python",
   "name": "python3"
  },
  "language_info": {
   "codemirror_mode": {
    "name": "ipython",
    "version": 3
   },
   "file_extension": ".py",
   "mimetype": "text/x-python",
   "name": "python",
   "nbconvert_exporter": "python",
   "pygments_lexer": "ipython3",
   "version": "3.11.13"
  }
 },
 "nbformat": 4,
 "nbformat_minor": 5
}
