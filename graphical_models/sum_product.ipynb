{
 "cells": [
  {
   "cell_type": "code",
   "execution_count": 5,
   "id": "d589e284",
   "metadata": {},
   "outputs": [],
   "source": [
    "import numpy as np\n",
    "from pgmpy.models import FactorGraph\n",
    "from pgmpy.factors.discrete import DiscreteFactor\n",
    "import networkx as nx"
   ]
  },
  {
   "cell_type": "code",
   "execution_count": null,
   "id": "689e435e",
   "metadata": {},
   "outputs": [
    {
     "name": "stdout",
     "output_type": "stream",
     "text": [
      "Variables: ['X1', 'X2', 'X3', 'X4', 'X5']\n",
      "Factor count: 4\n",
      "Pairwise scopes: [['X1', 'X2'], ['X2', 'X3'], ['X2', 'X4'], ['X4', 'X5']]\n"
     ]
    }
   ],
   "source": [
    "Xs = [\"X1\", \"X2\", \"X3\", \"X4\", \"X5\"]\n",
    "G = FactorGraph()\n",
    "G.add_nodes_from(Xs)\n",
    "\n",
    "K = 2 \n",
    "\n",
    "# phi = {\n",
    "#     \"X1\": np.array([1.0, 1.0]),\n",
    "#     \"X2\": np.array([0.8, 1.2]),\n",
    "#     \"X3\": np.array([1.0, 1.0]),\n",
    "#     \"X4\": np.array([0.4, 2.0]),  \n",
    "#     \"X5\": np.array([1.0, 1.0]),\n",
    "# }\n",
    "\n",
    "psi = {\n",
    "    (\"X1\", \"X2\"): np.array([[3.0, 0.5], [0.5, 3.0]]),\n",
    "    (\"X2\", \"X3\"): np.array([[1.0, 1.0], [1.0, 1.0]]),\n",
    "    (\"X2\", \"X4\"): np.array([[3.0, 0.5], [0.5, 3.0]]),\n",
    "    (\"X4\", \"X5\"): np.array([[0.25, 2.0], [2.0, 0.25]]),\n",
    "}\n",
    "\n",
    "# unary_nodes = {}\n",
    "# for X in Xs:\n",
    "#     f = DiscreteFactor([X], [K], phi[X])  # values length K\n",
    "#     G.add_factors(f)\n",
    "#     G.add_edge(X, f)\n",
    "#     unary_nodes[X] = f\n",
    "\n",
    "pair_nodes = {}\n",
    "for (U, V), table in psi.items():\n",
    "    f = DiscreteFactor([U, V], [K, K], table.ravel(order=\"C\"))  # rows=U, cols=V\n",
    "    G.add_factors(f)\n",
    "    G.add_edge(U, f)\n",
    "    G.add_edge(V, f)\n",
    "    pair_nodes[(U, V)] = f\n",
    "\n",
    "print(\"Variables:\", [n for n in G.nodes() if not isinstance(n, DiscreteFactor)])\n",
    "print(\"Factor count:\", len(getattr(G, \"get_factors\", lambda: G.factors)()))\n",
    "# Optional inspect: scopes of pairwise factors\n",
    "print(\"Pairwise scopes:\", [list(f.scope()) for f in pair_nodes.values()])"
   ]
  },
  {
   "cell_type": "code",
   "execution_count": 36,
   "id": "5b21a9b0",
   "metadata": {},
   "outputs": [
    {
     "name": "stdout",
     "output_type": "stream",
     "text": [
      "BFS Edges: [array(['X1', 'X2'], dtype='<U2'), array(['X2', 'X3'], dtype='<U2'), array(['X2', 'X4'], dtype='<U2'), array(['X4', 'X5'], dtype='<U2')]\n"
     ]
    }
   ],
   "source": [
    "bfs_edges = list(nx.bfs_edges(G, source=\"X2\"))\n",
    "edge_list = [\n",
    "    np.array(edge_0.scope()) for edge_0, edge_1 in bfs_edges if isinstance(edge_1, str)\n",
    "]\n",
    "print(\"BFS Edges:\", edge_list)"
   ]
  },
  {
   "cell_type": "code",
   "execution_count": 37,
   "id": "8c43110e",
   "metadata": {},
   "outputs": [
    {
     "name": "stdout",
     "output_type": "stream",
     "text": [
      "[array(['X2', 'X1'], dtype='<U2'), array(['X2', 'X3'], dtype='<U2'), array(['X2', 'X4'], dtype='<U2'), array(['X4', 'X5'], dtype='<U2')]\n"
     ]
    }
   ],
   "source": [
    "observed_set = {\"X2\"}\n",
    "ordered_edge_list = []\n",
    "for item in edge_list:\n",
    "    if item[1] in observed_set:\n",
    "        ordered_edge_list.append(np.array([item[1], item[0]]))\n",
    "    else:\n",
    "        ordered_edge_list.append(np.array([item[0], item[1]]))\n",
    "\n",
    "print(ordered_edge_list)"
   ]
  },
  {
   "cell_type": "code",
   "execution_count": null,
   "id": "cb7e0ff9",
   "metadata": {},
   "outputs": [],
   "source": [
    "def node_to_factor():\n",
    "    pass"
   ]
  },
  {
   "cell_type": "code",
   "execution_count": 38,
   "id": "9b2cd0cc",
   "metadata": {},
   "outputs": [],
   "source": [
    "def factor_to_node():\n",
    "    pass"
   ]
  },
  {
   "cell_type": "code",
   "execution_count": null,
   "id": "07eb1f89",
   "metadata": {},
   "outputs": [],
   "source": []
  }
 ],
 "metadata": {
  "kernelspec": {
   "display_name": "env",
   "language": "python",
   "name": "python3"
  },
  "language_info": {
   "codemirror_mode": {
    "name": "ipython",
    "version": 3
   },
   "file_extension": ".py",
   "mimetype": "text/x-python",
   "name": "python",
   "nbconvert_exporter": "python",
   "pygments_lexer": "ipython3",
   "version": "3.11.13"
  }
 },
 "nbformat": 4,
 "nbformat_minor": 5
}
