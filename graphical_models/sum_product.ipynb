{
 "cells": [
  {
   "cell_type": "code",
   "execution_count": 253,
   "id": "d589e284",
   "metadata": {},
   "outputs": [],
   "source": [
    "import numpy as np\n",
    "from pgmpy.models import FactorGraph\n",
    "from pgmpy.factors.discrete import DiscreteFactor\n",
    "import networkx as nx"
   ]
  },
  {
   "cell_type": "code",
   "execution_count": 254,
   "id": "689e435e",
   "metadata": {},
   "outputs": [
    {
     "name": "stdout",
     "output_type": "stream",
     "text": [
      "Variables: ['X1', 'X2', 'X3', 'X4', 'X5']\n",
      "Factor count: 4\n",
      "Pairwise scopes: [['X1', 'X2'], ['X2', 'X3'], ['X2', 'X4'], ['X4', 'X5']]\n"
     ]
    }
   ],
   "source": [
    "Xs = [\"X1\", \"X2\", \"X3\", \"X4\", \"X5\"]\n",
    "G = FactorGraph()\n",
    "G.add_nodes_from(Xs)\n",
    "\n",
    "K = 2 \n",
    "\n",
    "# phi = {\n",
    "#     \"X1\": np.array([1.0, 1.0]),\n",
    "#     \"X2\": np.array([0.8, 1.2]),\n",
    "#     \"X3\": np.array([1.0, 1.0]),\n",
    "#     \"X4\": np.array([0.4, 2.0]),  \n",
    "#     \"X5\": np.array([1.0, 1.0]),\n",
    "# }\n",
    "\n",
    "psi = {\n",
    "    (\"X1\", \"X2\"): np.array([[3.0, 0.5], [0.5, 3.0]]),\n",
    "    (\"X2\", \"X3\"): np.array([[1.0, 1.0], [1.0, 1.0]]),\n",
    "    (\"X2\", \"X4\"): np.array([[3.0, 0.5], [0.5, 3.0]]),\n",
    "    (\"X4\", \"X5\"): np.array([[0.25, 2.0], [2.0, 0.25]]),\n",
    "}\n",
    "\n",
    "# unary_nodes = {}\n",
    "# for X in Xs:\n",
    "#     f = DiscreteFactor([X], [K], phi[X])  # values length K\n",
    "#     G.add_factors(f)\n",
    "#     G.add_edge(X, f)\n",
    "#     unary_nodes[X] = f\n",
    "\n",
    "pair_nodes = {}\n",
    "for (U, V), table in psi.items():\n",
    "    f = DiscreteFactor([U, V], [K, K], table.ravel(order=\"C\"))  # rows=U, cols=V\n",
    "    G.add_factors(f)\n",
    "    G.add_edge(U, f)\n",
    "    G.add_edge(V, f)\n",
    "    pair_nodes[(U, V)] = f\n",
    "\n",
    "print(\"Variables:\", [n for n in G.nodes() if not isinstance(n, DiscreteFactor)])\n",
    "print(\"Factor count:\", len(getattr(G, \"get_factors\", lambda: G.factors)()))\n",
    "# Optional inspect: scopes of pairwise factors\n",
    "print(\"Pairwise scopes:\", [list(f.scope()) for f in pair_nodes.values()])"
   ]
  },
  {
   "cell_type": "code",
   "execution_count": 255,
   "id": "5b21a9b0",
   "metadata": {},
   "outputs": [
    {
     "name": "stdout",
     "output_type": "stream",
     "text": [
      "BFS Edges: [array(['X2', <DiscreteFactor representing phi(X1:2, X2:2) at 0x11da0da50>],\n",
      "      dtype=object), array(['X2', <DiscreteFactor representing phi(X2:2, X3:2) at 0x11da0fc50>],\n",
      "      dtype=object), array(['X2', <DiscreteFactor representing phi(X2:2, X4:2) at 0x11da0c050>],\n",
      "      dtype=object), array([<DiscreteFactor representing phi(X1:2, X2:2) at 0x11da0da50>, 'X1'],\n",
      "      dtype=object), array([<DiscreteFactor representing phi(X2:2, X3:2) at 0x11da0fc50>, 'X3'],\n",
      "      dtype=object), array([<DiscreteFactor representing phi(X2:2, X4:2) at 0x11da0c050>, 'X4'],\n",
      "      dtype=object), array(['X4', <DiscreteFactor representing phi(X4:2, X5:2) at 0x11da0ec10>],\n",
      "      dtype=object), array([<DiscreteFactor representing phi(X4:2, X5:2) at 0x11da0ec10>, 'X5'],\n",
      "      dtype=object)]\n"
     ]
    }
   ],
   "source": [
    "bfs_edges = list(nx.bfs_edges(G, source=\"X2\"))\n",
    "node_edge_list = [\n",
    "    np.array(edge_0.scope()) for edge_0, edge_1 in bfs_edges if isinstance(edge_1, str)\n",
    "]\n",
    "factor_edge_list = [\n",
    "    np.array(edge_0) for edge_0, edge_1 in bfs_edges if isinstance(edge_1, str)\n",
    "]\n",
    "node_factor_list = [np.array([edge_0, edge_1]) for edge_0, edge_1 in bfs_edges]\n",
    "print(\"BFS Edges:\", node_factor_list)"
   ]
  },
  {
   "cell_type": "code",
   "execution_count": 256,
   "id": "8c43110e",
   "metadata": {},
   "outputs": [
    {
     "name": "stdout",
     "output_type": "stream",
     "text": [
      "[array(['X2', 'X1'], dtype='<U2'), array(['X2', 'X3'], dtype='<U2'), array(['X2', 'X4'], dtype='<U2'), array(['X4', 'X5'], dtype='<U2')]\n"
     ]
    }
   ],
   "source": [
    "observed_set = {\"X2\"}\n",
    "ordered_edge_list = []\n",
    "for item in node_edge_list:\n",
    "    if item[1] in observed_set:\n",
    "        ordered_edge_list.append(np.array([item[1], item[0]]))\n",
    "    else:\n",
    "        ordered_edge_list.append(np.array([item[0], item[1]]))\n",
    "\n",
    "print(ordered_edge_list)"
   ]
  },
  {
   "cell_type": "code",
   "execution_count": 257,
   "id": "673177a8",
   "metadata": {},
   "outputs": [
    {
     "name": "stdout",
     "output_type": "stream",
     "text": [
      "Leaf nodes: [np.str_('X1'), np.str_('X3'), np.str_('X5')]\n"
     ]
    }
   ],
   "source": [
    "source_of_edges = {edge[0] for edge in ordered_edge_list}\n",
    "target_of_edges = {edge[1] for edge in ordered_edge_list}\n",
    "\n",
    "leaf_nodes = [t for t in target_of_edges if t not in source_of_edges]\n",
    "\n",
    "print(\"Leaf nodes:\", leaf_nodes)"
   ]
  },
  {
   "cell_type": "code",
   "execution_count": 258,
   "id": "947e6617",
   "metadata": {},
   "outputs": [
    {
     "name": "stdout",
     "output_type": "stream",
     "text": [
      "Leaf nodes: ['X3', 'X5', 'X1']\n"
     ]
    }
   ],
   "source": [
    "source_of_edges = {edge[0] for edge in node_factor_list}\n",
    "target_of_edges = {edge[1] for edge in node_factor_list}\n",
    "\n",
    "leaf_nodes = [t for t in target_of_edges if t not in source_of_edges]\n",
    "\n",
    "print(\"Leaf nodes:\", leaf_nodes)"
   ]
  },
  {
   "cell_type": "code",
   "execution_count": 259,
   "id": "d5e11aaa",
   "metadata": {},
   "outputs": [
    {
     "data": {
      "text/plain": [
       "[array([<DiscreteFactor representing phi(X4:2, X5:2) at 0x11da0ec10>, 'X5'],\n",
       "       dtype=object),\n",
       " array(['X4', <DiscreteFactor representing phi(X4:2, X5:2) at 0x11da0ec10>],\n",
       "       dtype=object),\n",
       " array([<DiscreteFactor representing phi(X2:2, X4:2) at 0x11da0c050>, 'X4'],\n",
       "       dtype=object),\n",
       " array([<DiscreteFactor representing phi(X2:2, X3:2) at 0x11da0fc50>, 'X3'],\n",
       "       dtype=object),\n",
       " array([<DiscreteFactor representing phi(X1:2, X2:2) at 0x11da0da50>, 'X1'],\n",
       "       dtype=object),\n",
       " array(['X2', <DiscreteFactor representing phi(X2:2, X4:2) at 0x11da0c050>],\n",
       "       dtype=object),\n",
       " array(['X2', <DiscreteFactor representing phi(X2:2, X3:2) at 0x11da0fc50>],\n",
       "       dtype=object),\n",
       " array(['X2', <DiscreteFactor representing phi(X1:2, X2:2) at 0x11da0da50>],\n",
       "       dtype=object)]"
      ]
     },
     "execution_count": 259,
     "metadata": {},
     "output_type": "execute_result"
    }
   ],
   "source": [
    "from_leaves_to_root = node_factor_list[::-1]\n",
    "from_leaves_to_root"
   ]
  },
  {
   "cell_type": "code",
   "execution_count": 260,
   "id": "48252fe4",
   "metadata": {},
   "outputs": [],
   "source": [
    "factor_dict = {}\n",
    "variable_dict = {}"
   ]
  },
  {
   "cell_type": "code",
   "execution_count": 261,
   "id": "cb7e0ff9",
   "metadata": {},
   "outputs": [],
   "source": [
    "def node_to_factor(node_source):\n",
    "    node_value = 1\n",
    "    for neighbor in G.neighbors(node_source):\n",
    "        if neighbor in factor_dict.keys():\n",
    "            node_value *= factor_dict[neighbor][\n",
    "                node_source\n",
    "            ]\n",
    "    variable_dict[node_source] = node_value"
   ]
  },
  {
   "cell_type": "code",
   "execution_count": 262,
   "id": "9b2cd0cc",
   "metadata": {},
   "outputs": [],
   "source": [
    "def factor_to_node(node_source, node_target):\n",
    "    sum_out = [v for v in node_source.variables if v != node_target]\n",
    "    node_margine = node_source.marginalize(variables=sum_out, inplace=False).values\n",
    "\n",
    "    for neighbor in G.neighbors(node_source):\n",
    "        if neighbor in variable_dict.keys() and neighbor != node_target:\n",
    "            node_margine *= variable_dict[neighbor]\n",
    "\n",
    "    if node_source not in factor_dict:\n",
    "        factor_dict[node_source] = {}\n",
    "    factor_dict[node_source][node_target] = node_margine"
   ]
  },
  {
   "cell_type": "code",
   "execution_count": 263,
   "id": "07eb1f89",
   "metadata": {},
   "outputs": [
    {
     "name": "stdout",
     "output_type": "stream",
     "text": [
      "({'X5': 1, 'X4': array([2.25, 2.25]), 'X3': 1, 'X1': 1, 'X2': array([55.125, 55.125])}, {<DiscreteFactor representing phi(X4:2, X5:2) at 0x11da0ec10>: {'X4': array([2.25, 2.25])}, <DiscreteFactor representing phi(X2:2, X4:2) at 0x11da0c050>: {'X2': array([7.875, 7.875])}, <DiscreteFactor representing phi(X2:2, X3:2) at 0x11da0fc50>: {'X2': array([2., 2.])}, <DiscreteFactor representing phi(X1:2, X2:2) at 0x11da0da50>: {'X2': array([3.5, 3.5])}})\n"
     ]
    }
   ],
   "source": [
    "def sum_product_algorithm(source):\n",
    "    for node in from_leaves_to_root:\n",
    "        if isinstance(node[1], DiscreteFactor):\n",
    "            factor_to_node(node[1], node[0])\n",
    "        else:\n",
    "            node_to_factor(node[1])\n",
    "    node_to_factor(source)\n",
    "    return variable_dict, factor_dict\n",
    "\n",
    "\n",
    "print(sum_product_algorithm(\"X2\"))"
   ]
  },
  {
   "cell_type": "code",
   "execution_count": null,
   "id": "dd31d0e6",
   "metadata": {},
   "outputs": [],
   "source": []
  }
 ],
 "metadata": {
  "kernelspec": {
   "display_name": "env",
   "language": "python",
   "name": "python3"
  },
  "language_info": {
   "codemirror_mode": {
    "name": "ipython",
    "version": 3
   },
   "file_extension": ".py",
   "mimetype": "text/x-python",
   "name": "python",
   "nbconvert_exporter": "python",
   "pygments_lexer": "ipython3",
   "version": "3.11.13"
  }
 },
 "nbformat": 4,
 "nbformat_minor": 5
}
