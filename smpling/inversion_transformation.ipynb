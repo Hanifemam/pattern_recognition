{
 "cells": [
  {
   "cell_type": "code",
   "execution_count": null,
   "id": "42381d93",
   "metadata": {},
   "outputs": [],
   "source": [
    "import numpy as np\n",
    "import mpmath as mp\n",
    "\n",
    "def phi_inv(u):\n",
    "    return mp.sqrt(2) + mp.erfinv(2*u - 1)\n",
    "\n",
    "def convert_uni_to_gaussian(u, mu=0.0, sigma=1.0):\n",
    "    return mu + sigma * phi_inv(u)"
   ]
  }
 ],
 "metadata": {
  "language_info": {
   "name": "python"
  }
 },
 "nbformat": 4,
 "nbformat_minor": 5
}
