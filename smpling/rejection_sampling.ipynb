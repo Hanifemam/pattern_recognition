{
 "cells": [
  {
   "cell_type": "code",
   "execution_count": null,
   "id": "5bfb5d0f",
   "metadata": {},
   "outputs": [],
   "source": [
    "import numpy as np\n",
    "from scipy.stats import gamma, cauchy\n"
   ]
  },
  {
   "cell_type": "code",
   "execution_count": null,
   "id": "8be58b33",
   "metadata": {},
   "outputs": [],
   "source": [
    "def gamma_sampling_from_cauchy(\n",
    "    u, alpha=2.0, beta=1.0, x0=0.0, gamma_param=1.0, M=1.5, rng=None\n",
    "):\n",
    "    if rng is None:\n",
    "        rng = np.random.default_rng()\n",
    "    while True:\n",
    "        x = cauchy.rvs(loc=x0, scale=gamma_param, random_state=rng)\n",
    "        if x <= 0:\n",
    "            p = gamma.pdf(x, a=alpha, scale=1.0 / beta)\n",
    "            g = cauchy.pdf(x, loc=x0, scale=gamma_param)\n",
    "            u = rng.uniform(0.0, 1.0)\n",
    "        if u < p / (M * g):\n",
    "            return x"
   ]
  },
  {
   "cell_type": "code",
   "execution_count": null,
   "id": "38b4b826",
   "metadata": {},
   "outputs": [],
   "source": []
  }
 ],
 "metadata": {
  "kernelspec": {
   "display_name": "env",
   "language": "python",
   "name": "python3"
  },
  "language_info": {
   "name": "python",
   "version": "3.11.13"
  }
 },
 "nbformat": 4,
 "nbformat_minor": 5
}
