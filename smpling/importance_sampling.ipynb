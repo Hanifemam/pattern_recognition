{
 "cells": [
  {
   "cell_type": "code",
   "execution_count": 1,
   "id": "caa4ae7c",
   "metadata": {},
   "outputs": [],
   "source": [
    "# Target density p*(x) exp(-x^4 + 3x^2 - x)\n",
    "# Proposal distribution N(x|mu, sigma)\n",
    "# f(x) = x"
   ]
  },
  {
   "cell_type": "code",
   "execution_count": null,
   "id": "89244869",
   "metadata": {},
   "outputs": [],
   "source": []
  }
 ],
 "metadata": {
  "kernelspec": {
   "display_name": "env",
   "language": "python",
   "name": "python3"
  },
  "language_info": {
   "codemirror_mode": {
    "name": "ipython",
    "version": 3
   },
   "file_extension": ".py",
   "mimetype": "text/x-python",
   "name": "python",
   "nbconvert_exporter": "python",
   "pygments_lexer": "ipython3",
   "version": "3.11.13"
  }
 },
 "nbformat": 4,
 "nbformat_minor": 5
}
