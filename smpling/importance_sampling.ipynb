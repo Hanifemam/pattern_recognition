{
 "cells": [
  {
   "cell_type": "code",
   "execution_count": 20,
   "id": "caa4ae7c",
   "metadata": {},
   "outputs": [],
   "source": [
    "# Target density p*(x) = exp(-x^4 + 3x^2 - x)\n",
    "# Proposal distribution N(x|mu, sigma)\n",
    "# f(x) = x"
   ]
  },
  {
   "cell_type": "code",
   "execution_count": 21,
   "id": "89244869",
   "metadata": {},
   "outputs": [],
   "source": [
    "mu, sigma = 1.2, 2\n",
    "import numpy as np\n",
    "samples = np.random.normal(mu, sigma, 1000)"
   ]
  },
  {
   "cell_type": "code",
   "execution_count": 22,
   "id": "c284d300",
   "metadata": {},
   "outputs": [
    {
     "name": "stdout",
     "output_type": "stream",
     "text": [
      "-23.918903482809885\n"
     ]
    }
   ],
   "source": [
    "def p(x):\n",
    "    return np.exp((-1 * x**4) + (3 * x ** 2) - x)\n",
    "\n",
    "def q(x, mu=mu, sigma=sigma):\n",
    "    coeff = 1.0 / (sigma * np.sqrt(2.0 * np.pi))\n",
    "    exponent = -0.5 * ((x - mu) / sigma) ** 2\n",
    "    return coeff * np.exp(exponent)\n",
    "sum = 0\n",
    "for x in samples:\n",
    "    sum += p(x) / q(x) * x\n",
    "expect = (1/len(samples)) * sum\n",
    "\n",
    "print(expect)"
   ]
  },
  {
   "cell_type": "code",
   "execution_count": 23,
   "id": "e36f3552",
   "metadata": {},
   "outputs": [],
   "source": [
    "def weight_normalizer():\n",
    "    sum = 0\n",
    "    for x in samples:\n",
    "        sum += p(x) / q(x)\n",
    "    return sum"
   ]
  },
  {
   "cell_type": "code",
   "execution_count": 24,
   "id": "1c080741",
   "metadata": {},
   "outputs": [
    {
     "name": "stdout",
     "output_type": "stream",
     "text": [
      "-23.919837089898248\n"
     ]
    }
   ],
   "source": [
    "normalizer = weight_normalizer()\n",
    "for x in samples:\n",
    "    sum += ((p(x) / q(x)) / normalizer) * x\n",
    "expect = (1 / len(samples)) * sum\n",
    "\n",
    "print(expect)"
   ]
  }
 ],
 "metadata": {
  "kernelspec": {
   "display_name": "env",
   "language": "python",
   "name": "python3"
  },
  "language_info": {
   "codemirror_mode": {
    "name": "ipython",
    "version": 3
   },
   "file_extension": ".py",
   "mimetype": "text/x-python",
   "name": "python",
   "nbconvert_exporter": "python",
   "pygments_lexer": "ipython3",
   "version": "3.11.13"
  }
 },
 "nbformat": 4,
 "nbformat_minor": 5
}
