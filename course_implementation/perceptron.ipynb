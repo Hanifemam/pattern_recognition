{
 "cells": [
  {
   "cell_type": "code",
   "execution_count": null,
   "id": "71a503f3",
   "metadata": {},
   "outputs": [],
   "source": [
    "from sklearn.model_selection import train_test_split\n",
    "from sklearn.metrics import accuracy_score"
   ]
  }
 ],
 "metadata": {
  "language_info": {
   "name": "python"
  }
 },
 "nbformat": 4,
 "nbformat_minor": 5
}
