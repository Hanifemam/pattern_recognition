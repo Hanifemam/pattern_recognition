{
 "cells": [
  {
   "cell_type": "code",
   "execution_count": 62,
   "id": "1d826760",
   "metadata": {},
   "outputs": [],
   "source": [
    "import pandas as pd\n",
    "import numpy as np"
   ]
  },
  {
   "cell_type": "code",
   "execution_count": 63,
   "id": "9efc5b22",
   "metadata": {},
   "outputs": [],
   "source": [
    "data = pd.read_csv('/Users/hanifemamgholizadeh/Desktop/patter_recognition/data/kernel_least_squares_dataset.csv')\n",
    "data.head(), len(data)\n",
    "y = np.array(data['y'])\n",
    "X = np.array(data.drop(columns=['y']))"
   ]
  },
  {
   "cell_type": "code",
   "execution_count": 64,
   "id": "fbff2384",
   "metadata": {},
   "outputs": [
    {
     "data": {
      "text/plain": [
       "(100, 100)"
      ]
     },
     "execution_count": 64,
     "metadata": {},
     "output_type": "execute_result"
    }
   ],
   "source": [
    "kernel_matrix = X @ X.T\n",
    "kernel_matrix.shape"
   ]
  },
  {
   "cell_type": "code",
   "execution_count": 65,
   "id": "51d18761",
   "metadata": {},
   "outputs": [
    {
     "data": {
      "text/plain": [
       "(2, 1)"
      ]
     },
     "execution_count": 65,
     "metadata": {},
     "output_type": "execute_result"
    }
   ],
   "source": [
    "sum_of_kernal = np.zeros((data.shape[1] - 1, 1))\n",
    "sum_of_kernal.shape"
   ]
  },
  {
   "cell_type": "code",
   "execution_count": 66,
   "id": "9a19faf0",
   "metadata": {},
   "outputs": [],
   "source": [
    "def kernel_sum(alpha, kernel_vector):\n",
    "    return alpha.T @ kernel_vector"
   ]
  },
  {
   "cell_type": "code",
   "execution_count": 67,
   "id": "bdac8a12",
   "metadata": {},
   "outputs": [
    {
     "name": "stdout",
     "output_type": "stream",
     "text": [
      "Epoch 10, Alpha: [[  1.2638137 ]\n",
      " [  2.86740623]\n",
      " [  4.21894569]\n",
      " [  5.07012203]\n",
      " [  5.87057767]\n",
      " [  6.04616674]\n",
      " [  5.14073246]\n",
      " [  3.83226704]\n",
      " [  2.33810673]\n",
      " [  0.36270827]\n",
      " [ -1.47757331]\n",
      " [ -3.20931097]\n",
      " [ -4.85091937]\n",
      " [ -5.74542612]\n",
      " [ -6.37376758]\n",
      " [ -7.00720978]\n",
      " [ -7.34715132]\n",
      " [ -7.82018613]\n",
      " [ -7.88061669]\n",
      " [ -7.69713087]\n",
      " [ -7.93831284]\n",
      " [ -7.62369769]\n",
      " [ -7.11676647]\n",
      " [ -6.11607839]\n",
      " [ -5.03477227]\n",
      " [ -3.84773689]\n",
      " [ -2.34378864]\n",
      " [ -0.9401538 ]\n",
      " [  0.63492738]\n",
      " [  2.19199118]\n",
      " [  3.80065939]\n",
      " [  5.09507779]\n",
      " [  6.6837782 ]\n",
      " [  8.50045489]\n",
      " [ 10.09174569]\n",
      " [ 12.06083966]\n",
      " [ 13.78943914]\n",
      " [ 15.7396386 ]\n",
      " [ 17.31836779]\n",
      " [ 18.3668197 ]\n",
      " [ 18.98303503]\n",
      " [ 19.18998673]\n",
      " [ 18.93625483]\n",
      " [ 18.25912505]\n",
      " [ 17.16230435]\n",
      " [ 15.94123133]\n",
      " [ 14.76384939]\n",
      " [ 14.04329216]\n",
      " [ 13.51232964]\n",
      " [ 12.93328174]\n",
      " [ 13.22477765]\n",
      " [ 13.78659231]\n",
      " [ 14.66847466]\n",
      " [ 16.12278764]\n",
      " [ 17.77895729]\n",
      " [ 19.33148878]\n",
      " [ 20.3803101 ]\n",
      " [ 21.16911915]\n",
      " [ 21.53073555]\n",
      " [ 21.32746267]\n",
      " [ 20.57022283]\n",
      " [ 19.37749666]\n",
      " [ 17.96448185]\n",
      " [ 16.40119279]\n",
      " [ 14.46315852]\n",
      " [ 12.38924029]\n",
      " [ 10.57980013]\n",
      " [  8.61660335]\n",
      " [  6.80446228]\n",
      " [  5.18315788]\n",
      " [  3.33958901]\n",
      " [  1.23856897]\n",
      " [ -0.61579792]\n",
      " [ -2.76508142]\n",
      " [ -4.0867039 ]\n",
      " [ -5.95552815]\n",
      " [ -7.5355987 ]\n",
      " [ -8.82945883]\n",
      " [ -9.97549428]\n",
      " [-10.3608591 ]\n",
      " [-10.93199732]\n",
      " [-11.41377496]\n",
      " [-11.90758628]\n",
      " [-11.48353969]\n",
      " [-10.52701107]\n",
      " [ -9.14094393]\n",
      " [ -7.55217067]\n",
      " [ -5.25120686]\n",
      " [ -2.30071895]\n",
      " [  0.65134438]\n",
      " [  3.62038634]\n",
      " [  5.9798731 ]\n",
      " [  7.9824045 ]\n",
      " [  8.93457673]\n",
      " [  8.83048755]\n",
      " [  8.01844481]\n",
      " [  5.87187492]\n",
      " [  3.26516816]\n",
      " [  0.72865639]\n",
      " [ -1.28839407]]\n"
     ]
    }
   ],
   "source": [
    "ephochs = 10  \n",
    "alpha = np.zeros((data.shape[0], 1))  # Initialize alpha as a zero vector\n",
    "s = 0.01  # learning rate\n",
    "\n",
    "for i in range(10):\n",
    "    sum_of_kernal_j = 0\n",
    "    for j in range(data.shape[0]):\n",
    "        sum_of_kernal_j += kernel_sum(alpha, kernel_matrix[:, j]) - y[j]\n",
    "        alpha[j] = alpha[j] - (2 * s * sum_of_kernal_j)\n",
    "print(f'Epoch {i + 1}, Alpha: {alpha}')\n",
    "\n"
   ]
  },
  {
   "cell_type": "code",
   "execution_count": null,
   "id": "b9d85d5e",
   "metadata": {},
   "outputs": [],
   "source": []
  },
  {
   "cell_type": "code",
   "execution_count": null,
   "id": "276f50fa",
   "metadata": {},
   "outputs": [],
   "source": []
  }
 ],
 "metadata": {
  "kernelspec": {
   "display_name": "ML",
   "language": "python",
   "name": "python3"
  },
  "language_info": {
   "codemirror_mode": {
    "name": "ipython",
    "version": 3
   },
   "file_extension": ".py",
   "mimetype": "text/x-python",
   "name": "python",
   "nbconvert_exporter": "python",
   "pygments_lexer": "ipython3",
   "version": "3.8.7"
  }
 },
 "nbformat": 4,
 "nbformat_minor": 5
}
