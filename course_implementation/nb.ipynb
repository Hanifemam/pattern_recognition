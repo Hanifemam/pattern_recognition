{
 "cells": [
  {
   "cell_type": "markdown",
   "id": "ef2fe2a7",
   "metadata": {},
   "source": [
    "## Categorical Naive Bayes"
   ]
  },
  {
   "cell_type": "code",
   "execution_count": 51,
   "id": "e447633f",
   "metadata": {},
   "outputs": [
    {
     "data": {
      "text/plain": [
       "(    Weather Temperature Humidity  Windy PlayTennis\n",
       " 0     Sunny        Mild     High  False         No\n",
       " 1  Overcast         Hot     High  False        Yes\n",
       " 2     Sunny         Hot     High  False         No\n",
       " 3  Overcast         Hot   Normal  False        Yes\n",
       " 4      Rain        Mild     High   True         No,\n",
       " 500)"
      ]
     },
     "execution_count": 51,
     "metadata": {},
     "output_type": "execute_result"
    }
   ],
   "source": [
    "import pandas as pd\n",
    "\n",
    "df = pd.read_csv('/Users/hanifemamgholizadeh/Desktop/patter_recognition/data/expanded_categorical_naive_bayes.csv')\n",
    "df.head(), df.size"
   ]
  },
  {
   "cell_type": "code",
   "execution_count": 52,
   "id": "94ce58ed",
   "metadata": {},
   "outputs": [],
   "source": [
    "target = df['PlayTennis']\n",
    "features = df.drop(columns=['PlayTennis'])"
   ]
  },
  {
   "cell_type": "code",
   "execution_count": 53,
   "id": "c85abef1",
   "metadata": {},
   "outputs": [],
   "source": [
    "from sklearn.model_selection import train_test_split\n",
    "X_train, X_test, y_train, y_test = train_test_split(features, target, test_size=0.2, random_state=42)"
   ]
  },
  {
   "cell_type": "code",
   "execution_count": null,
   "id": "dbaf85a4",
   "metadata": {},
   "outputs": [
    {
     "ename": "NameError",
     "evalue": "name 'y' is not defined",
     "output_type": "error",
     "traceback": [
      "\u001b[0;31m---------------------------------------------------------------------------\u001b[0m",
      "\u001b[0;31mNameError\u001b[0m                                 Traceback (most recent call last)",
      "Cell \u001b[0;32mIn[70], line 5\u001b[0m\n\u001b[1;32m      2\u001b[0m X_encoded \u001b[38;5;241m=\u001b[39m encoder\u001b[38;5;241m.\u001b[39mfit_transform(features)\n\u001b[1;32m      4\u001b[0m \u001b[38;5;66;03m# Split into training and test sets\u001b[39;00m\n\u001b[0;32m----> 5\u001b[0m X_train, X_test, y_train, y_test \u001b[38;5;241m=\u001b[39m train_test_split(X_encoded, \u001b[43my\u001b[49m, test_size\u001b[38;5;241m=\u001b[39m\u001b[38;5;241m0.2\u001b[39m, random_state\u001b[38;5;241m=\u001b[39m\u001b[38;5;241m42\u001b[39m)\n\u001b[1;32m      7\u001b[0m \u001b[38;5;66;03m# Train the Categorical Naive Bayes model\u001b[39;00m\n\u001b[1;32m      8\u001b[0m model \u001b[38;5;241m=\u001b[39m CategoricalNB()\n",
      "\u001b[0;31mNameError\u001b[0m: name 'y' is not defined"
     ]
    }
   ],
   "source": []
  },
  {
   "cell_type": "code",
   "execution_count": 54,
   "id": "e2602971",
   "metadata": {},
   "outputs": [],
   "source": [
    "class_names = target.unique()\n",
    "class_probabilities = dict()\n",
    "for class_name in class_names:\n",
    "    class_probabilities[class_name] = len(target[target == class_name]) / len(target)"
   ]
  },
  {
   "cell_type": "code",
   "execution_count": 55,
   "id": "130c01dd",
   "metadata": {},
   "outputs": [
    {
     "data": {
      "text/plain": [
       "array(['Sunny', 'Overcast', 'Rain'], dtype=object)"
      ]
     },
     "execution_count": 55,
     "metadata": {},
     "output_type": "execute_result"
    }
   ],
   "source": [
    "weather_categories = features['Weather'].unique()\n",
    "weather_categories\n"
   ]
  },
  {
   "cell_type": "code",
   "execution_count": 56,
   "id": "0e422b6d",
   "metadata": {},
   "outputs": [
    {
     "name": "stdout",
     "output_type": "stream",
     "text": [
      "Class Probabilities: {'No': 0.37, 'Yes': 0.63}\n",
      "Yes Weather Probabilities: {'Sunny': 0.23809523809523808, 'Overcast': 0.4444444444444444, 'Rain': 0.31746031746031744}\n"
     ]
    },
    {
     "name": "stderr",
     "output_type": "stream",
     "text": [
      "/var/folders/n4/8zh_hhf525v6v_00z9234_0h0000gn/T/ipykernel_9896/2515693007.py:3: UserWarning: Boolean Series key will be reindexed to match DataFrame index.\n",
      "  yes_weather_probabilities[weather_category] = len(features[features[\"Weather\"] == weather_category][target == \"Yes\"]) / len(target[target == \"Yes\"])\n",
      "/var/folders/n4/8zh_hhf525v6v_00z9234_0h0000gn/T/ipykernel_9896/2515693007.py:3: UserWarning: Boolean Series key will be reindexed to match DataFrame index.\n",
      "  yes_weather_probabilities[weather_category] = len(features[features[\"Weather\"] == weather_category][target == \"Yes\"]) / len(target[target == \"Yes\"])\n",
      "/var/folders/n4/8zh_hhf525v6v_00z9234_0h0000gn/T/ipykernel_9896/2515693007.py:3: UserWarning: Boolean Series key will be reindexed to match DataFrame index.\n",
      "  yes_weather_probabilities[weather_category] = len(features[features[\"Weather\"] == weather_category][target == \"Yes\"]) / len(target[target == \"Yes\"])\n",
      "/var/folders/n4/8zh_hhf525v6v_00z9234_0h0000gn/T/ipykernel_9896/2515693007.py:6: UserWarning: Boolean Series key will be reindexed to match DataFrame index.\n",
      "  no_weather_probabilities[weather_category] = len(features[features[\"Weather\"] == weather_category][target == \"No\"]) / len(target[target == \"No\"])\n",
      "/var/folders/n4/8zh_hhf525v6v_00z9234_0h0000gn/T/ipykernel_9896/2515693007.py:6: UserWarning: Boolean Series key will be reindexed to match DataFrame index.\n",
      "  no_weather_probabilities[weather_category] = len(features[features[\"Weather\"] == weather_category][target == \"No\"]) / len(target[target == \"No\"])\n",
      "/var/folders/n4/8zh_hhf525v6v_00z9234_0h0000gn/T/ipykernel_9896/2515693007.py:6: UserWarning: Boolean Series key will be reindexed to match DataFrame index.\n",
      "  no_weather_probabilities[weather_category] = len(features[features[\"Weather\"] == weather_category][target == \"No\"]) / len(target[target == \"No\"])\n"
     ]
    }
   ],
   "source": [
    "yes_weather_probabilities = dict()\n",
    "for weather_category in weather_categories:\n",
    "    yes_weather_probabilities[weather_category] = len(features[features[\"Weather\"] == weather_category][target == \"Yes\"]) / len(target[target == \"Yes\"])\n",
    "no_weather_probabilities = dict()\n",
    "for weather_category in weather_categories:\n",
    "    no_weather_probabilities[weather_category] = len(features[features[\"Weather\"] == weather_category][target == \"No\"]) / len(target[target == \"No\"])\n",
    "print(\"Class Probabilities:\", class_probabilities)\n",
    "print(\"Yes Weather Probabilities:\", yes_weather_probabilities)"
   ]
  },
  {
   "cell_type": "code",
   "execution_count": 57,
   "id": "d5dde80a",
   "metadata": {},
   "outputs": [
    {
     "name": "stdout",
     "output_type": "stream",
     "text": [
      "Class Probabilities: {'No': 0.37, 'Yes': 0.63}\n",
      "Yes Temperature Probabilities: {'Mild': 0.4444444444444444, 'Hot': 0.20634920634920634, 'Cool': 0.3492063492063492}\n",
      "No Weather Probabilities: {'Mild': 0.43243243243243246, 'Hot': 0.40540540540540543, 'Cool': 0.16216216216216217}\n"
     ]
    },
    {
     "name": "stderr",
     "output_type": "stream",
     "text": [
      "/var/folders/n4/8zh_hhf525v6v_00z9234_0h0000gn/T/ipykernel_9896/1050017307.py:4: UserWarning: Boolean Series key will be reindexed to match DataFrame index.\n",
      "  yes_temperature_probabilities[temperature_category] = len(features[features[\"Temperature\"] == temperature_category][target == \"Yes\"]) / len(target[target == \"Yes\"])\n",
      "/var/folders/n4/8zh_hhf525v6v_00z9234_0h0000gn/T/ipykernel_9896/1050017307.py:4: UserWarning: Boolean Series key will be reindexed to match DataFrame index.\n",
      "  yes_temperature_probabilities[temperature_category] = len(features[features[\"Temperature\"] == temperature_category][target == \"Yes\"]) / len(target[target == \"Yes\"])\n",
      "/var/folders/n4/8zh_hhf525v6v_00z9234_0h0000gn/T/ipykernel_9896/1050017307.py:4: UserWarning: Boolean Series key will be reindexed to match DataFrame index.\n",
      "  yes_temperature_probabilities[temperature_category] = len(features[features[\"Temperature\"] == temperature_category][target == \"Yes\"]) / len(target[target == \"Yes\"])\n",
      "/var/folders/n4/8zh_hhf525v6v_00z9234_0h0000gn/T/ipykernel_9896/1050017307.py:7: UserWarning: Boolean Series key will be reindexed to match DataFrame index.\n",
      "  no_temperature_probabilities[temperature_category] = len(features[features[\"Temperature\"] == temperature_category][target == \"No\"]) / len(target[target == \"No\"])\n",
      "/var/folders/n4/8zh_hhf525v6v_00z9234_0h0000gn/T/ipykernel_9896/1050017307.py:7: UserWarning: Boolean Series key will be reindexed to match DataFrame index.\n",
      "  no_temperature_probabilities[temperature_category] = len(features[features[\"Temperature\"] == temperature_category][target == \"No\"]) / len(target[target == \"No\"])\n",
      "/var/folders/n4/8zh_hhf525v6v_00z9234_0h0000gn/T/ipykernel_9896/1050017307.py:7: UserWarning: Boolean Series key will be reindexed to match DataFrame index.\n",
      "  no_temperature_probabilities[temperature_category] = len(features[features[\"Temperature\"] == temperature_category][target == \"No\"]) / len(target[target == \"No\"])\n"
     ]
    }
   ],
   "source": [
    "temperature_categories = features['Temperature'].unique()\n",
    "yes_temperature_probabilities = dict()\n",
    "for temperature_category in temperature_categories:\n",
    "    yes_temperature_probabilities[temperature_category] = len(features[features[\"Temperature\"] == temperature_category][target == \"Yes\"]) / len(target[target == \"Yes\"])\n",
    "no_temperature_probabilities = dict()\n",
    "for temperature_category in temperature_categories:\n",
    "    no_temperature_probabilities[temperature_category] = len(features[features[\"Temperature\"] == temperature_category][target == \"No\"]) / len(target[target == \"No\"])\n",
    "print(\"Class Probabilities:\", class_probabilities)\n",
    "print(\"Yes Temperature Probabilities:\", yes_temperature_probabilities)\n",
    "print(\"No Weather Probabilities:\", no_temperature_probabilities)"
   ]
  },
  {
   "cell_type": "code",
   "execution_count": 61,
   "id": "8777a4a3",
   "metadata": {},
   "outputs": [
    {
     "name": "stdout",
     "output_type": "stream",
     "text": [
      "Class Probabilities: {'No': 0.37, 'Yes': 0.63}\n",
      "Yes Humidity Probabilities: {'High': 0.3492063492063492, 'Normal': 0.6507936507936508}\n"
     ]
    },
    {
     "name": "stderr",
     "output_type": "stream",
     "text": [
      "/var/folders/n4/8zh_hhf525v6v_00z9234_0h0000gn/T/ipykernel_9896/1602416536.py:4: UserWarning: Boolean Series key will be reindexed to match DataFrame index.\n",
      "  yes_humidity_probabilities[humidity_category] = len(features[features[\"Humidity\"] == humidity_category][target == \"Yes\"]) / len(target[target == \"Yes\"])\n",
      "/var/folders/n4/8zh_hhf525v6v_00z9234_0h0000gn/T/ipykernel_9896/1602416536.py:4: UserWarning: Boolean Series key will be reindexed to match DataFrame index.\n",
      "  yes_humidity_probabilities[humidity_category] = len(features[features[\"Humidity\"] == humidity_category][target == \"Yes\"]) / len(target[target == \"Yes\"])\n",
      "/var/folders/n4/8zh_hhf525v6v_00z9234_0h0000gn/T/ipykernel_9896/1602416536.py:7: UserWarning: Boolean Series key will be reindexed to match DataFrame index.\n",
      "  no_humidity_probabilities[humidity_category] = len(features[features[\"Humidity\"] == humidity_category][target == \"No\"]) / len(target[target == \"No\"])\n",
      "/var/folders/n4/8zh_hhf525v6v_00z9234_0h0000gn/T/ipykernel_9896/1602416536.py:7: UserWarning: Boolean Series key will be reindexed to match DataFrame index.\n",
      "  no_humidity_probabilities[humidity_category] = len(features[features[\"Humidity\"] == humidity_category][target == \"No\"]) / len(target[target == \"No\"])\n"
     ]
    }
   ],
   "source": [
    "humidity_categories = features['Humidity'].unique()\n",
    "yes_humidity_probabilities = dict()\n",
    "for humidity_category in humidity_categories:\n",
    "    yes_humidity_probabilities[humidity_category] = len(features[features[\"Humidity\"] == humidity_category][target == \"Yes\"]) / len(target[target == \"Yes\"])\n",
    "no_humidity_probabilities = dict()\n",
    "for humidity_category in humidity_categories:\n",
    "    no_humidity_probabilities[humidity_category] = len(features[features[\"Humidity\"] == humidity_category][target == \"No\"]) / len(target[target == \"No\"])\n",
    "print(\"Class Probabilities:\", class_probabilities)\n",
    "print(\"Yes Humidity Probabilities:\", yes_humidity_probabilities)"
   ]
  },
  {
   "cell_type": "code",
   "execution_count": 62,
   "id": "71304f8c",
   "metadata": {},
   "outputs": [
    {
     "name": "stdout",
     "output_type": "stream",
     "text": [
      "Class Probabilities: {'No': 0.37, 'Yes': 0.63}\n",
      "Yes Windy Probabilities: {False: 0.6349206349206349, True: 0.36507936507936506}\n"
     ]
    },
    {
     "name": "stderr",
     "output_type": "stream",
     "text": [
      "/var/folders/n4/8zh_hhf525v6v_00z9234_0h0000gn/T/ipykernel_9896/1715102232.py:4: UserWarning: Boolean Series key will be reindexed to match DataFrame index.\n",
      "  yes_windy_probabilities[windy_category] = len(features[features[\"Windy\"] == windy_category][target == \"Yes\"]) / len(target[target == \"Yes\"])\n",
      "/var/folders/n4/8zh_hhf525v6v_00z9234_0h0000gn/T/ipykernel_9896/1715102232.py:4: UserWarning: Boolean Series key will be reindexed to match DataFrame index.\n",
      "  yes_windy_probabilities[windy_category] = len(features[features[\"Windy\"] == windy_category][target == \"Yes\"]) / len(target[target == \"Yes\"])\n",
      "/var/folders/n4/8zh_hhf525v6v_00z9234_0h0000gn/T/ipykernel_9896/1715102232.py:7: UserWarning: Boolean Series key will be reindexed to match DataFrame index.\n",
      "  no_windy_probabilities[windy_category] = len(features[features[\"Windy\"] == windy_category][target == \"No\"]) / len(target[target == \"No\"])\n",
      "/var/folders/n4/8zh_hhf525v6v_00z9234_0h0000gn/T/ipykernel_9896/1715102232.py:7: UserWarning: Boolean Series key will be reindexed to match DataFrame index.\n",
      "  no_windy_probabilities[windy_category] = len(features[features[\"Windy\"] == windy_category][target == \"No\"]) / len(target[target == \"No\"])\n"
     ]
    }
   ],
   "source": [
    "windy_categories = features['Windy'].unique()\n",
    "yes_windy_probabilities = dict()\n",
    "for windy_category in windy_categories:\n",
    "    yes_windy_probabilities[windy_category] = len(features[features[\"Windy\"] == windy_category][target == \"Yes\"]) / len(target[target == \"Yes\"])\n",
    "no_windy_probabilities = dict()\n",
    "for windy_category in windy_categories:\n",
    "    no_windy_probabilities[windy_category] = len(features[features[\"Windy\"] == windy_category][target == \"No\"]) / len(target[target == \"No\"])\n",
    "print(\"Class Probabilities:\", class_probabilities)\n",
    "print(\"Yes Windy Probabilities:\", yes_windy_probabilities)"
   ]
  },
  {
   "cell_type": "code",
   "execution_count": 64,
   "id": "7a6acf71",
   "metadata": {},
   "outputs": [
    {
     "name": "stderr",
     "output_type": "stream",
     "text": [
      "/var/folders/n4/8zh_hhf525v6v_00z9234_0h0000gn/T/ipykernel_9896/2383239522.py:10: RuntimeWarning: divide by zero encountered in log\n",
      "  np.log(no_weather_probabilities[row[1]['Weather']]) +\n"
     ]
    }
   ],
   "source": [
    "import numpy as np\n",
    "preds = []\n",
    "for  row in X_test.iterrows():\n",
    "    yes_probability = (np.log(class_probabilities['Yes']) + \n",
    "                       np.log(yes_weather_probabilities[row[1]['Weather']]) +\n",
    "                       np.log(yes_temperature_probabilities[row[1]['Temperature']]) +\n",
    "                       np.log(yes_humidity_probabilities[row[1]['Humidity']]) +\n",
    "                       np.log(yes_windy_probabilities[row[1]['Windy']]))\n",
    "    no_probability = (np.log(class_probabilities['No']) +\n",
    "                     np.log(no_weather_probabilities[row[1]['Weather']]) +\n",
    "                     np.log(no_temperature_probabilities[row[1]['Temperature']]) +\n",
    "                     np.log(no_humidity_probabilities[row[1]['Humidity']]) +\n",
    "                     np.log(no_windy_probabilities[row[1]['Windy']]))\n",
    "    return_value = 'Yes' if yes_probability > no_probability else 'No'\n",
    "    preds.append(return_value)"
   ]
  },
  {
   "cell_type": "code",
   "execution_count": 66,
   "id": "23d9d187",
   "metadata": {},
   "outputs": [
    {
     "name": "stdout",
     "output_type": "stream",
     "text": [
      "Accuracy of the Naive Bayes Classifier: 0.85\n"
     ]
    }
   ],
   "source": [
    "from sklearn.metrics import accuracy_score\n",
    "accuracy = accuracy_score(y_test, preds)\n",
    "print(\"Accuracy of the Naive Bayes Classifier:\", accuracy)"
   ]
  },
  {
   "cell_type": "code",
   "execution_count": 73,
   "id": "1fb3be5e",
   "metadata": {},
   "outputs": [
    {
     "name": "stdout",
     "output_type": "stream",
     "text": [
      "Accuracy: 0.95\n",
      "\n",
      "Classification Report:\n",
      "               precision    recall  f1-score   support\n",
      "\n",
      "          No       1.00      0.86      0.92         7\n",
      "         Yes       0.93      1.00      0.96        13\n",
      "\n",
      "    accuracy                           0.95        20\n",
      "   macro avg       0.96      0.93      0.94        20\n",
      "weighted avg       0.95      0.95      0.95        20\n",
      "\n"
     ]
    }
   ],
   "source": [
    "import pandas as pd\n",
    "from sklearn.model_selection import train_test_split\n",
    "from sklearn.naive_bayes import CategoricalNB\n",
    "from sklearn.preprocessing import OrdinalEncoder\n",
    "from sklearn.metrics import accuracy_score, classification_report\n",
    "\n",
    "# Load the dataset\n",
    "\n",
    "df = pd.read_csv('/Users/hanifemamgholizadeh/Desktop/patter_recognition/data/expanded_categorical_naive_bayes.csv')\n",
    "\n",
    "# Split into features and target\n",
    "X = df.drop(\"PlayTennis\", axis=1)\n",
    "y = df[\"PlayTennis\"]\n",
    "\n",
    "# Convert categorical features to integers\n",
    "encoder = OrdinalEncoder()\n",
    "X_encoded = encoder.fit_transform(X)\n",
    "\n",
    "# Split into training and test sets\n",
    "X_train, X_test, y_train, y_test = train_test_split(X_encoded, y, test_size=0.2, random_state=42)\n",
    "\n",
    "# Train the Categorical Naive Bayes model\n",
    "model = CategoricalNB()\n",
    "model.fit(X_train, y_train)\n",
    "\n",
    "# Make predictions\n",
    "y_pred = model.predict(X_test)\n",
    "\n",
    "# Evaluate the model\n",
    "print(\"Accuracy:\", accuracy_score(y_test, y_pred))\n",
    "print(\"\\nClassification Report:\\n\", classification_report(y_test, y_pred))"
   ]
  },
  {
   "cell_type": "markdown",
   "id": "649f75c2",
   "metadata": {},
   "source": [
    "## Categorical"
   ]
  },
  {
   "cell_type": "code",
   "execution_count": 75,
   "id": "bcdb167a",
   "metadata": {},
   "outputs": [
    {
     "data": {
      "text/html": [
       "<div>\n",
       "<style scoped>\n",
       "    .dataframe tbody tr th:only-of-type {\n",
       "        vertical-align: middle;\n",
       "    }\n",
       "\n",
       "    .dataframe tbody tr th {\n",
       "        vertical-align: top;\n",
       "    }\n",
       "\n",
       "    .dataframe thead th {\n",
       "        text-align: right;\n",
       "    }\n",
       "</style>\n",
       "<table border=\"1\" class=\"dataframe\">\n",
       "  <thead>\n",
       "    <tr style=\"text-align: right;\">\n",
       "      <th></th>\n",
       "      <th>word_free</th>\n",
       "      <th>word_win</th>\n",
       "      <th>word_offer</th>\n",
       "      <th>word_hello</th>\n",
       "      <th>word_meeting</th>\n",
       "      <th>word_project</th>\n",
       "      <th>Label</th>\n",
       "    </tr>\n",
       "  </thead>\n",
       "  <tbody>\n",
       "    <tr>\n",
       "      <th>0</th>\n",
       "      <td>1</td>\n",
       "      <td>0</td>\n",
       "      <td>1</td>\n",
       "      <td>0</td>\n",
       "      <td>0</td>\n",
       "      <td>0</td>\n",
       "      <td>spam</td>\n",
       "    </tr>\n",
       "    <tr>\n",
       "      <th>1</th>\n",
       "      <td>1</td>\n",
       "      <td>1</td>\n",
       "      <td>1</td>\n",
       "      <td>0</td>\n",
       "      <td>0</td>\n",
       "      <td>0</td>\n",
       "      <td>spam</td>\n",
       "    </tr>\n",
       "    <tr>\n",
       "      <th>2</th>\n",
       "      <td>0</td>\n",
       "      <td>0</td>\n",
       "      <td>0</td>\n",
       "      <td>1</td>\n",
       "      <td>1</td>\n",
       "      <td>1</td>\n",
       "      <td>ham</td>\n",
       "    </tr>\n",
       "    <tr>\n",
       "      <th>3</th>\n",
       "      <td>0</td>\n",
       "      <td>0</td>\n",
       "      <td>0</td>\n",
       "      <td>1</td>\n",
       "      <td>1</td>\n",
       "      <td>1</td>\n",
       "      <td>ham</td>\n",
       "    </tr>\n",
       "    <tr>\n",
       "      <th>4</th>\n",
       "      <td>0</td>\n",
       "      <td>0</td>\n",
       "      <td>0</td>\n",
       "      <td>1</td>\n",
       "      <td>1</td>\n",
       "      <td>1</td>\n",
       "      <td>ham</td>\n",
       "    </tr>\n",
       "  </tbody>\n",
       "</table>\n",
       "</div>"
      ],
      "text/plain": [
       "   word_free  word_win  word_offer  word_hello  word_meeting  word_project  \\\n",
       "0          1         0           1           0             0             0   \n",
       "1          1         1           1           0             0             0   \n",
       "2          0         0           0           1             1             1   \n",
       "3          0         0           0           1             1             1   \n",
       "4          0         0           0           1             1             1   \n",
       "\n",
       "  Label  \n",
       "0  spam  \n",
       "1  spam  \n",
       "2   ham  \n",
       "3   ham  \n",
       "4   ham  "
      ]
     },
     "execution_count": 75,
     "metadata": {},
     "output_type": "execute_result"
    }
   ],
   "source": [
    "df_multinomial = pd.read_csv('/Users/hanifemamgholizadeh/Desktop/patter_recognition/data/expanded_multinomial_naive_bayes.csv')\n",
    "df_multinomial.head()"
   ]
  },
  {
   "cell_type": "code",
   "execution_count": 76,
   "id": "216350db",
   "metadata": {},
   "outputs": [
    {
     "data": {
      "text/plain": [
       "array(['spam', 'ham'], dtype=object)"
      ]
     },
     "execution_count": 76,
     "metadata": {},
     "output_type": "execute_result"
    }
   ],
   "source": [
    "df_multinomial[\"Label\"].unique()"
   ]
  },
  {
   "cell_type": "code",
   "execution_count": 77,
   "id": "4c290aee",
   "metadata": {},
   "outputs": [],
   "source": [
    "labels = df_multinomial[\"Label\"].unique()\n",
    "from sklearn.model_selection import train_test_split\n",
    "X_multinomial = df_multinomial.drop(\"Label\", axis=1)\n",
    "y_multinomial = df_multinomial[\"Label\"]\n",
    "X_train_multinomial, X_test_multinomial, y_train_multinomial, y_test_multinomial = train_test_split(X_multinomial, y_multinomial, test_size=0.2, random_state=42)\n",
    "from sklearn.naive_bayes import MultinomialNB"
   ]
  },
  {
   "cell_type": "code",
   "execution_count": 139,
   "id": "f590e88b",
   "metadata": {},
   "outputs": [],
   "source": [
    "feature_names = X_multinomial.columns\n",
    "yes_probabilities_multinomial = dict()\n",
    "for feature in feature_names:\n",
    "    yes_probabilities_multinomial[feature] = 0\n",
    "    yes_probabilities_multinomial[feature] =  X_train_multinomial[y_train_multinomial == 'spam'][feature].sum()/ X_train_multinomial[y_train_multinomial == 'spam'].shape[0]\n",
    "    \n",
    "no_probabilities_multinomial = dict()\n",
    "for feature in feature_names:\n",
    "    no_probabilities_multinomial[feature] =  0\n",
    "    no_probabilities_multinomial[feature] =  X_train_multinomial[y_train_multinomial == 'ham'][feature].sum()/ X_train_multinomial[y_train_multinomial == 'ham'].shape[0]\n",
    "    "
   ]
  },
  {
   "cell_type": "code",
   "execution_count": 144,
   "id": "911f5f5c",
   "metadata": {},
   "outputs": [
    {
     "name": "stdout",
     "output_type": "stream",
     "text": [
      "Accuracy of the Multinomial Naive Bayes Classifier: 1.0\n"
     ]
    },
    {
     "name": "stderr",
     "output_type": "stream",
     "text": [
      "/var/folders/n4/8zh_hhf525v6v_00z9234_0h0000gn/T/ipykernel_9896/911459301.py:9: RuntimeWarning: divide by zero encountered in log\n",
      "  y_spam_probability += np.log(yes_probability)\n",
      "/var/folders/n4/8zh_hhf525v6v_00z9234_0h0000gn/T/ipykernel_9896/911459301.py:10: RuntimeWarning: divide by zero encountered in log\n",
      "  y_ham_probability += np.log(no_probability)\n"
     ]
    }
   ],
   "source": [
    "preds_multinomial = []\n",
    "for row in X_test_multinomial.iterrows():\n",
    "    y_spam_probability = np.log(len(X_train_multinomial[y_train_multinomial == 'spam']) / len(X_train_multinomial))\n",
    "    y_ham_probability = np.log(len(X_train_multinomial[y_train_multinomial == 'ham']) / len(X_train_multinomial))\n",
    "    \n",
    "    for feature in list(row[1].index):\n",
    "        yes_probability = float(yes_probabilities_multinomial[feature] ** row[1][feature])\n",
    "        no_probability = float(no_probabilities_multinomial[feature] ** row[1][feature])\n",
    "        y_spam_probability += np.log(yes_probability)\n",
    "        y_ham_probability += np.log(no_probability)\n",
    "    return_value = 'spam' if y_spam_probability > y_ham_probability else 'ham'\n",
    "    preds_multinomial.append(return_value)\n",
    "from sklearn.metrics import accuracy_score\n",
    "accuracy_multinomial = accuracy_score(y_test_multinomial, preds_multinomial)\n",
    "print(\"Accuracy of the Multinomial Naive Bayes Classifier:\", accuracy_multinomial)"
   ]
  },
  {
   "cell_type": "code",
   "execution_count": 146,
   "id": "f11f52f6",
   "metadata": {},
   "outputs": [
    {
     "data": {
      "text/plain": [
       "1.0"
      ]
     },
     "execution_count": 146,
     "metadata": {},
     "output_type": "execute_result"
    }
   ],
   "source": [
    "MultinomialNB().fit(X_train_multinomial, y_train_multinomial).score(X_test_multinomial, y_test_multinomial)\n"
   ]
  },
  {
   "cell_type": "markdown",
   "id": "d71190b4",
   "metadata": {},
   "source": [
    "## Gaussian"
   ]
  },
  {
   "cell_type": "markdown",
   "id": "c457139b",
   "metadata": {},
   "source": []
  }
 ],
 "metadata": {
  "kernelspec": {
   "display_name": "ML",
   "language": "python",
   "name": "python3"
  },
  "language_info": {
   "codemirror_mode": {
    "name": "ipython",
    "version": 3
   },
   "file_extension": ".py",
   "mimetype": "text/x-python",
   "name": "python",
   "nbconvert_exporter": "python",
   "pygments_lexer": "ipython3",
   "version": "3.8.7"
  }
 },
 "nbformat": 4,
 "nbformat_minor": 5
}
