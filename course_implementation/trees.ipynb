{
 "cells": [
  {
   "cell_type": "markdown",
   "id": "4b3d60e9",
   "metadata": {},
   "source": [
    "## KD Tree"
   ]
  },
  {
   "cell_type": "code",
   "execution_count": 68,
   "id": "718f26a6",
   "metadata": {},
   "outputs": [],
   "source": [
    "import pandas as pd\n",
    "import numpy as np\n",
    "import matplotlib.pyplot as plt\n",
    "from scipy.stats import mode"
   ]
  },
  {
   "cell_type": "code",
   "execution_count": 69,
   "id": "bc33bf44",
   "metadata": {},
   "outputs": [],
   "source": [
    "data = pd.read_csv('/Users/hanifemamgholizadeh/Desktop/patter_recognition/data/tree_classification_dataset.csv')"
   ]
  },
  {
   "cell_type": "code",
   "execution_count": 70,
   "id": "2729eab5",
   "metadata": {},
   "outputs": [
    {
     "data": {
      "text/html": [
       "<div>\n",
       "<style scoped>\n",
       "    .dataframe tbody tr th:only-of-type {\n",
       "        vertical-align: middle;\n",
       "    }\n",
       "\n",
       "    .dataframe tbody tr th {\n",
       "        vertical-align: top;\n",
       "    }\n",
       "\n",
       "    .dataframe thead th {\n",
       "        text-align: right;\n",
       "    }\n",
       "</style>\n",
       "<table border=\"1\" class=\"dataframe\">\n",
       "  <thead>\n",
       "    <tr style=\"text-align: right;\">\n",
       "      <th></th>\n",
       "      <th>feature_1</th>\n",
       "      <th>feature_2</th>\n",
       "      <th>feature_3</th>\n",
       "      <th>feature_4</th>\n",
       "      <th>target</th>\n",
       "    </tr>\n",
       "  </thead>\n",
       "  <tbody>\n",
       "    <tr>\n",
       "      <th>0</th>\n",
       "      <td>-3.402839</td>\n",
       "      <td>0.179845</td>\n",
       "      <td>1.432424</td>\n",
       "      <td>0.774566</td>\n",
       "      <td>1</td>\n",
       "    </tr>\n",
       "    <tr>\n",
       "      <th>1</th>\n",
       "      <td>-1.902995</td>\n",
       "      <td>-1.241501</td>\n",
       "      <td>1.956614</td>\n",
       "      <td>0.512447</td>\n",
       "      <td>1</td>\n",
       "    </tr>\n",
       "    <tr>\n",
       "      <th>2</th>\n",
       "      <td>-1.023094</td>\n",
       "      <td>1.270126</td>\n",
       "      <td>0.782203</td>\n",
       "      <td>-0.785725</td>\n",
       "      <td>0</td>\n",
       "    </tr>\n",
       "    <tr>\n",
       "      <th>3</th>\n",
       "      <td>-0.331077</td>\n",
       "      <td>-0.069590</td>\n",
       "      <td>-0.258279</td>\n",
       "      <td>-0.339054</td>\n",
       "      <td>0</td>\n",
       "    </tr>\n",
       "    <tr>\n",
       "      <th>4</th>\n",
       "      <td>-3.377452</td>\n",
       "      <td>0.816699</td>\n",
       "      <td>-3.009166</td>\n",
       "      <td>-1.553258</td>\n",
       "      <td>2</td>\n",
       "    </tr>\n",
       "  </tbody>\n",
       "</table>\n",
       "</div>"
      ],
      "text/plain": [
       "   feature_1  feature_2  feature_3  feature_4  target\n",
       "0  -3.402839   0.179845   1.432424   0.774566       1\n",
       "1  -1.902995  -1.241501   1.956614   0.512447       1\n",
       "2  -1.023094   1.270126   0.782203  -0.785725       0\n",
       "3  -0.331077  -0.069590  -0.258279  -0.339054       0\n",
       "4  -3.377452   0.816699  -3.009166  -1.553258       2"
      ]
     },
     "execution_count": 70,
     "metadata": {},
     "output_type": "execute_result"
    }
   ],
   "source": [
    "data.head()"
   ]
  },
  {
   "cell_type": "code",
   "execution_count": 71,
   "id": "8a067c05",
   "metadata": {},
   "outputs": [
    {
     "data": {
      "text/plain": [
       "3"
      ]
     },
     "execution_count": 71,
     "metadata": {},
     "output_type": "execute_result"
    }
   ],
   "source": [
    "y = data['target']\n",
    "X = data.drop(columns=['target'])\n",
    "len(y.unique())"
   ]
  },
  {
   "cell_type": "code",
   "execution_count": 72,
   "id": "c12af9e6",
   "metadata": {},
   "outputs": [],
   "source": [
    "class TreeNode:\n",
    "    def __init__(self, left_child=None, right_child=None, parent=None, value=None, feature=None, leaf_list=None):\n",
    "        self.left_child = left_child\n",
    "        self.right_child = right_child\n",
    "        self.parent = parent\n",
    "        self.value = value\n",
    "        self.feature = feature\n",
    "        self.leaf_list = leaf_list if leaf_list is not None else []\n",
    "        self.is_right_child = False\n",
    "        self.is_left_child = False\n",
    "\n",
    "    def is_leaf(self):\n",
    "        return self.left_child is None and self.right_child is None"
   ]
  },
  {
   "cell_type": "code",
   "execution_count": 73,
   "id": "dc7e08cb",
   "metadata": {},
   "outputs": [],
   "source": [
    "def calculate_distance(x1, x2):\n",
    "    return np.linalg.norm(np.array(x1) - np.array(x2))"
   ]
  },
  {
   "cell_type": "code",
   "execution_count": 74,
   "id": "5e708aaa",
   "metadata": {},
   "outputs": [],
   "source": [
    "def calculate_distance_to_wall(x, node):\n",
    "    feature = node.feature\n",
    "    wall_value = node.value\n",
    "    return abs(x[feature] - wall_value)"
   ]
  },
  {
   "cell_type": "code",
   "execution_count": 75,
   "id": "3a3d1780",
   "metadata": {},
   "outputs": [],
   "source": [
    "def create_KD_tree(X, y, parent_node=None, direction=None):\n",
    "    if len(X) <= 4 or len(np.unique(y)) == 1:\n",
    "        # Create a leaf node\n",
    "        return TreeNode(parent=parent_node, leaf_list=list(zip(X.values, y.values)))\n",
    "\n",
    "    # Choose a random feature and split on its median\n",
    "    feature = np.random.choice(X.columns)\n",
    "    median_value = X[feature].median()\n",
    "\n",
    "    # Split the data\n",
    "    left_indices = X[X[feature] <= median_value].index\n",
    "    right_indices = X[X[feature] > median_value].index\n",
    "\n",
    "    # Create current node\n",
    "    node = TreeNode(parent=parent_node, value=median_value, feature=feature)\n",
    "\n",
    "    if direction == 'left':\n",
    "        node.is_left_child = True\n",
    "    elif direction == 'right':\n",
    "        node.is_right_child = True\n",
    "\n",
    "    # Recursive construction\n",
    "    node.left_child = create_KD_tree(X.loc[left_indices], y.loc[left_indices], parent_node=node, direction='left')\n",
    "    node.right_child = create_KD_tree(X.loc[right_indices], y.loc[right_indices], parent_node=node, direction='right')\n",
    "\n",
    "    return node\n"
   ]
  },
  {
   "cell_type": "code",
   "execution_count": 76,
   "id": "5eea7373",
   "metadata": {},
   "outputs": [],
   "source": [
    "def depth_first_search(tree_node: TreeNode, x, knn_distance, knn=[]):\n",
    "    if tree_node is None:\n",
    "        return None\n",
    "    \n",
    "    if tree_node.is_leaf():\n",
    "        leaf_list = tree_node.get_leaf_list()\n",
    "        for item in leaf_list:\n",
    "            calculate_distances = [calculate_distance(x, item) for item in leaf_list]\n",
    "        sorted_indices = np.argsort(calculate_distances)\n",
    "        knn.append(sorted_indices)\n",
    "        return tree_node.get_leaf_list()\n",
    "    \n",
    "    feature = tree_node.get_feature()\n",
    "    value = tree_node.get_value()\n",
    "    \n",
    "    if calculate_distance_to_wall(x[feature], value) < knn_distance:\n",
    "        return depth_first_search(tree_node, x, knn_distance, knn)\n",
    "    else:\n",
    "        return depth_first_search(tree_node.parent, x)"
   ]
  },
  {
   "cell_type": "code",
   "execution_count": 77,
   "id": "43abcf14",
   "metadata": {},
   "outputs": [],
   "source": [
    "def depth_first_search(node, x, knn_distance, knn_list):\n",
    "    if node is None:\n",
    "        return\n",
    "\n",
    "    if node.is_leaf():\n",
    "        for point, label in node.leaf_list:\n",
    "            dist = calculate_distance(x, point)\n",
    "            knn_list.append((dist, label))\n",
    "        return\n",
    "\n",
    "    feature = node.feature\n",
    "    value = node.value\n",
    "\n",
    "    # Choose which subtree to go first\n",
    "    if x[feature] <= value:\n",
    "        depth_first_search(node.left_child, x, knn_distance, knn_list)\n",
    "        if calculate_distance_to_wall(x, node) < knn_distance:\n",
    "            depth_first_search(node.right_child, x, knn_distance, knn_list)\n",
    "    else:\n",
    "        depth_first_search(node.right_child, x, knn_distance, knn_list)\n",
    "        if calculate_distance_to_wall(x, node) < knn_distance:\n",
    "            depth_first_search(node.left_child, x, knn_distance, knn_list)\n",
    "\n",
    "# Query the KD Tre"
   ]
  },
  {
   "cell_type": "code",
   "execution_count": null,
   "id": "ffe92a9e",
   "metadata": {},
   "outputs": [
    {
     "name": "stdout",
     "output_type": "stream",
     "text": [
      "Nearest Neighbors: [(0.0, 1), (0.7395099856826924, 1), (0.7622639206298912, 1)]\n",
      "Test Point prediction: 1\n",
      "True Label: 1\n"
     ]
    },
    {
     "name": "stderr",
     "output_type": "stream",
     "text": [
      "/var/folders/n4/8zh_hhf525v6v_00z9234_0h0000gn/T/ipykernel_11386/1229450982.py:18: FutureWarning: Unlike other reduction functions (e.g. `skew`, `kurtosis`), the default behavior of `mode` typically preserves the axis it acts along. In SciPy 1.11.0, this behavior will change: the default value of `keepdims` will become False, the `axis` over which the statistic is taken will be eliminated, and the value None will no longer be accepted. Set `keepdims` to True or False to avoid this warning.\n",
      "  print(\"Test Point prediction:\", mode(np.array([preds[1] for preds in neighbors])).mode[0])\n"
     ]
    }
   ],
   "source": [
    "def query_KD_tree(tree, x, k=1):\n",
    "    knn_list = []\n",
    "\n",
    "    # Initial DFS to fill neighbors\n",
    "    depth_first_search(tree, x, knn_distance=np.inf, knn_list=knn_list)\n",
    "\n",
    "    # Sort and return top-k neighbors\n",
    "    knn_list.sort(key=lambda tup: tup[0])\n",
    "    return knn_list[:k]\n",
    "\n",
    "# Example usage\n",
    "kd_tree = create_KD_tree(X, y)\n",
    "\n",
    "# Test on one point\n",
    "test_point = X.iloc[10]\n",
    "neighbors = query_KD_tree(kd_tree, test_point, k=3)\n",
    "print(\"Nearest Neighbors:\", neighbors)\n",
    "print(\"Test Point prediction:\", mode(np.array([preds[1] for preds in neighbors])).mode[0])\n",
    "print(\"True Label:\", y.iloc[0])"
   ]
  },
  {
   "cell_type": "code",
   "execution_count": 80,
   "id": "6b67bfd8",
   "metadata": {},
   "outputs": [],
   "source": [
    "from sklearn.metrics import accuracy_score\n",
    "def evaluate_model(tree, X, y, k=3):\n",
    "    predictions = []\n",
    "    for i in range(len(X)):\n",
    "        neighbors = query_KD_tree(tree, X.iloc[i], k)\n",
    "        predicted_label = mode(np.array([preds[1] for preds in neighbors])).mode[0]\n",
    "        predictions.append(predicted_label)\n",
    "    \n",
    "    accuracy = accuracy_score(y, predictions)\n",
    "    print(\"Accuracy:\", accuracy)\n",
    "    return accuracy"
   ]
  },
  {
   "cell_type": "code",
   "execution_count": 81,
   "id": "6b7057f7",
   "metadata": {},
   "outputs": [
    {
     "name": "stderr",
     "output_type": "stream",
     "text": [
      "/var/folders/n4/8zh_hhf525v6v_00z9234_0h0000gn/T/ipykernel_11386/3337161936.py:6: FutureWarning: Unlike other reduction functions (e.g. `skew`, `kurtosis`), the default behavior of `mode` typically preserves the axis it acts along. In SciPy 1.11.0, this behavior will change: the default value of `keepdims` will become False, the `axis` over which the statistic is taken will be eliminated, and the value None will no longer be accepted. Set `keepdims` to True or False to avoid this warning.\n",
      "  predicted_label = mode(np.array([preds[1] for preds in neighbors])).mode[0]\n"
     ]
    },
    {
     "name": "stdout",
     "output_type": "stream",
     "text": [
      "Accuracy: 0.895\n"
     ]
    },
    {
     "data": {
      "text/plain": [
       "0.895"
      ]
     },
     "execution_count": 81,
     "metadata": {},
     "output_type": "execute_result"
    }
   ],
   "source": [
    "evaluate_model(kd_tree, X, y, k=3)"
   ]
  },
  {
   "cell_type": "code",
   "execution_count": null,
   "id": "525ca514",
   "metadata": {},
   "outputs": [],
   "source": []
  }
 ],
 "metadata": {
  "kernelspec": {
   "display_name": "ML",
   "language": "python",
   "name": "python3"
  },
  "language_info": {
   "codemirror_mode": {
    "name": "ipython",
    "version": 3
   },
   "file_extension": ".py",
   "mimetype": "text/x-python",
   "name": "python",
   "nbconvert_exporter": "python",
   "pygments_lexer": "ipython3",
   "version": "3.8.7"
  }
 },
 "nbformat": 4,
 "nbformat_minor": 5
}
